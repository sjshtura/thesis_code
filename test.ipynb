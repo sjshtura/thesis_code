{
 "cells": [
  {
   "cell_type": "code",
   "execution_count": 1,
   "source": [
    "import pandas as pd\n",
    "import matplotlib.pyplot as plt \n",
    "import datetime\n",
    "from numpy import nan as Nan\n",
    "\n",
    "df_data = pd.read_excel(\"CO22020.xlsx\",usecols = \"A,B,C\",skiprows=4, nrows = 253)\n",
    "\n",
    "\n",
    "df_data.loc[-1] = ['01.01.2020', Nan, Nan]\n",
    "df_data.index = df_data.index + 1  # shifting index\n",
    "df_data.sort_index(inplace=True) \n",
    "\n",
    "df_data.Datum = pd.to_datetime(df_data.Datum).dt.date\n",
    "\n",
    "df_data = df_data.set_index(\"Datum\")\n",
    "df_data = df_data.asfreq('D')\n",
    "# is_NaN = df_data.isnull()\n",
    "\n",
    "df_data = df_data.interpolate(method ='linear', limit_direction ='backward')\n",
    "df_data['mean_CO2_tax'] = df_data[['Bid', 'Bid']].mean(axis=1)\n",
    "df_data = df_data[[\"mean_CO2_tax\"]]\n",
    "print(\"Co2 Price\\n\")\n",
    "print(df_data.head())\n"
   ],
   "outputs": [
    {
     "output_type": "stream",
     "name": "stdout",
     "text": [
      "Co2 Price\n",
      "\n",
      "            mean_CO2_tax\n",
      "Datum                   \n",
      "2020-01-01         17.43\n",
      "2020-01-02         17.43\n",
      "2020-01-03         17.43\n",
      "2020-01-04         17.43\n",
      "2020-01-05         19.93\n"
     ]
    }
   ],
   "metadata": {}
  },
  {
   "cell_type": "code",
   "execution_count": 13,
   "source": [
    "x = df_data.resample('60T').ffill()"
   ],
   "outputs": [],
   "metadata": {}
  },
  {
   "cell_type": "code",
   "execution_count": 15,
   "source": [
    "print(x)"
   ],
   "outputs": [
    {
     "output_type": "stream",
     "name": "stdout",
     "text": [
      "                      Preis\n",
      "Datum                      \n",
      "2020-01-01 00:00:00  12.161\n",
      "2020-01-01 01:00:00  12.161\n",
      "2020-01-01 02:00:00  12.161\n",
      "2020-01-01 03:00:00  12.161\n",
      "2020-01-01 04:00:00  12.161\n",
      "...                     ...\n",
      "2020-12-30 20:00:00  18.389\n",
      "2020-12-30 21:00:00  18.389\n",
      "2020-12-30 22:00:00  18.389\n",
      "2020-12-30 23:00:00  18.389\n",
      "2020-12-31 00:00:00  18.301\n",
      "\n",
      "[8761 rows x 1 columns]\n"
     ]
    }
   ],
   "metadata": {}
  },
  {
   "cell_type": "code",
   "execution_count": 3,
   "source": [
    "import pandas as pd\n",
    "import matplotlib.pyplot as plt \n",
    "import datetime\n",
    "\n",
    "df_data = pd.read_excel(\"NaturalGas2020.xlsx\",usecols = \"A,D\",skiprows=4, nrows = 332)\n",
    "\n",
    "df_data.Datum = pd.to_datetime(df_data.Datum).dt.date\n",
    "\n",
    "df_data = df_data.set_index(\"Datum\")\n",
    "df_data = df_data.asfreq('D')\n",
    "# is_NaN = df_data.isnull()\n",
    "\n",
    "df_data = df_data.interpolate(method ='linear', limit_direction ='forward')\n",
    "\n",
    "gas_p = df_data\n",
    "print(\"gas price\\n\")\n",
    "print(gas_p.head())"
   ],
   "outputs": [
    {
     "output_type": "stream",
     "name": "stdout",
     "text": [
      "gas price\n",
      "\n",
      "             Preis\n",
      "Datum             \n",
      "2020-01-01  12.161\n",
      "2020-01-02   9.775\n",
      "2020-01-03  10.100\n",
      "2020-01-04   7.987\n",
      "2020-01-05   6.164\n"
     ]
    }
   ],
   "metadata": {}
  },
  {
   "cell_type": "code",
   "execution_count": 4,
   "source": [
    "gas_p"
   ],
   "outputs": [
    {
     "output_type": "execute_result",
     "data": {
      "text/plain": [
       "             Preis\n",
       "Datum             \n",
       "2020-01-01  12.161\n",
       "2020-01-02   9.775\n",
       "2020-01-03  10.100\n",
       "2020-01-04   7.987\n",
       "2020-01-05   6.164\n",
       "...            ...\n",
       "2020-12-27  17.642\n",
       "2020-12-28  17.891\n",
       "2020-12-29  18.140\n",
       "2020-12-30  18.389\n",
       "2020-12-31  18.301\n",
       "\n",
       "[366 rows x 1 columns]"
      ],
      "text/html": [
       "<div>\n",
       "<style scoped>\n",
       "    .dataframe tbody tr th:only-of-type {\n",
       "        vertical-align: middle;\n",
       "    }\n",
       "\n",
       "    .dataframe tbody tr th {\n",
       "        vertical-align: top;\n",
       "    }\n",
       "\n",
       "    .dataframe thead th {\n",
       "        text-align: right;\n",
       "    }\n",
       "</style>\n",
       "<table border=\"1\" class=\"dataframe\">\n",
       "  <thead>\n",
       "    <tr style=\"text-align: right;\">\n",
       "      <th></th>\n",
       "      <th>Preis</th>\n",
       "    </tr>\n",
       "    <tr>\n",
       "      <th>Datum</th>\n",
       "      <th></th>\n",
       "    </tr>\n",
       "  </thead>\n",
       "  <tbody>\n",
       "    <tr>\n",
       "      <th>2020-01-01</th>\n",
       "      <td>12.161</td>\n",
       "    </tr>\n",
       "    <tr>\n",
       "      <th>2020-01-02</th>\n",
       "      <td>9.775</td>\n",
       "    </tr>\n",
       "    <tr>\n",
       "      <th>2020-01-03</th>\n",
       "      <td>10.100</td>\n",
       "    </tr>\n",
       "    <tr>\n",
       "      <th>2020-01-04</th>\n",
       "      <td>7.987</td>\n",
       "    </tr>\n",
       "    <tr>\n",
       "      <th>2020-01-05</th>\n",
       "      <td>6.164</td>\n",
       "    </tr>\n",
       "    <tr>\n",
       "      <th>...</th>\n",
       "      <td>...</td>\n",
       "    </tr>\n",
       "    <tr>\n",
       "      <th>2020-12-27</th>\n",
       "      <td>17.642</td>\n",
       "    </tr>\n",
       "    <tr>\n",
       "      <th>2020-12-28</th>\n",
       "      <td>17.891</td>\n",
       "    </tr>\n",
       "    <tr>\n",
       "      <th>2020-12-29</th>\n",
       "      <td>18.140</td>\n",
       "    </tr>\n",
       "    <tr>\n",
       "      <th>2020-12-30</th>\n",
       "      <td>18.389</td>\n",
       "    </tr>\n",
       "    <tr>\n",
       "      <th>2020-12-31</th>\n",
       "      <td>18.301</td>\n",
       "    </tr>\n",
       "  </tbody>\n",
       "</table>\n",
       "<p>366 rows × 1 columns</p>\n",
       "</div>"
      ]
     },
     "metadata": {},
     "execution_count": 4
    }
   ],
   "metadata": {}
  },
  {
   "cell_type": "code",
   "execution_count": null,
   "source": [],
   "outputs": [],
   "metadata": {}
  }
 ],
 "metadata": {
  "orig_nbformat": 4,
  "language_info": {
   "name": "python",
   "version": "3.9.6",
   "mimetype": "text/x-python",
   "codemirror_mode": {
    "name": "ipython",
    "version": 3
   },
   "pygments_lexer": "ipython3",
   "nbconvert_exporter": "python",
   "file_extension": ".py"
  },
  "kernelspec": {
   "name": "python3",
   "display_name": "Python 3.9.6 64-bit"
  },
  "interpreter": {
   "hash": "aee8b7b246df8f9039afb4144a1f6fd8d2ca17a180786b69acc140d282b71a49"
  }
 },
 "nbformat": 4,
 "nbformat_minor": 2
}