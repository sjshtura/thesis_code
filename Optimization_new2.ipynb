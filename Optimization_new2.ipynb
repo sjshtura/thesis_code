{
 "cells": [
  {
   "cell_type": "code",
   "execution_count": 1,
   "source": [
    "# -*- coding: utf-8 -*-\n",
    "\"\"\"\n",
    "Created on Fri Jun 11 11:02:03 2021\n",
    "\n",
    "@author: Christian\n",
    "\"\"\"\n",
    "\n",
    "from mip import Model, xsum, maximize, BINARY\n",
    "\n",
    "from Co2_price import df_data\n",
    "from electricity_demand import electricity_demand\n",
    "from Electricity_Price0 import Electricity_price_pivot0\n",
    "from Electricity_Price1 import Electricity_price_pivot1\n",
    "from gas_price import gas_p\n",
    "from heat_demand import heat_demand_pivot\n",
    "from heat_price import heat_p\n",
    "\n",
    "\n",
    "elec_demand = electricity_demand\n",
    "elec_price_wholesale = Electricity_price_pivot0\n",
    "elec_price_household_32_05 = Electricity_price_pivot1\n",
    "co2_price = df_data\n",
    "gas_price = gas_p\n",
    "heat_demand_1 = heat_demand_pivot\n",
    "heat_price_1 = heat_p\n",
    "\n",
    "\n",
    "el_price = elec_price_wholesale # Electricity price\n",
    "del_t = .25 # duration of time step\n",
    "el_demand = electricity_demand # Electicity demand\n",
    "\n",
    "\n",
    "gas_p = gas_price # Gas price for different plants\n",
    "em_fc = 0.2 # emission factor\n",
    "co2_p = co2_price # CO2 Price\n",
    "capacity_el = [5, 6, 7] # maximum capacity of electricity for the power plants\n",
    "capacity_ht = [5, 6, 7] # maximum capacity of heat for the power plants\n",
    "heat_demand = heat_demand_1 # heat demand\n",
    "heat_price = heat_price_1 # heat price\n",
    "heat_ratio = 1.21 # heat ratio\n",
    "\n",
    "\n",
    "eff_plants = [0.33, 0.4, 0.45] # the efficiency of the power plants\n",
    "\n",
    "\n",
    "T = range(len(el_price))\n",
    "I = range(len(gas_p))\n",
    "\n",
    "m = Model(\"Maximizing profit\", sense=maximize)\n",
    " \n",
    "\n",
    "#variable\n",
    "y_t = [[m.add_var(lb = 0) for i in I] for t in T] # Electricity generation\n",
    "el_sold = [m.add_var(lb = 0) for t in T] # electricity sold \n",
    "x_t = [[m.add_var(lb = 0) for i in I] for t in T] # Fuel consumption\n",
    "z_t = [[m.add_var(lb = 0) for i in I] for t in T] # Heat generation\n",
    "# objective function\n",
    "\n",
    "# Revenue = Electricity price * demand/generation\n",
    "# Cost = Fuel price = gas price + emission_factor * co2 price\n",
    "\n",
    "# Max Proft = Revenue - Cost\n",
    "\n"
   ],
   "outputs": [],
   "metadata": {}
  },
  {
   "cell_type": "code",
   "execution_count": 2,
   "source": [
    "m.objective = xsum((el_price[t] * del_t * el_sold[t]) - ( x_t[t][i] * ( gas_p[i] * del_t + (em_fc * co2_p[t]*del_t))) for t in T for i in I) + ((heat_demand[t] * heat_price[t]) for t in T)\n",
    "\n",
    "# constraints\n",
    "\n",
    "for t in T:\n",
    "    m += xsum(y_t[t][i] for i in I) == el_demand[t]\n",
    "    \n",
    "    for i in I:\n",
    "        m += y_t[t][i] <= capacity_el[i] # electricity generation <= maximum capacity of electricity of the plant\n",
    "\n",
    "        m += z_t[t][i] <= capacity_ht[i] # heat generation <= maximum capacity of heat of the plant \n",
    "        \n",
    "        m += x_t[t][i] == y_t[t][i]/eff_plants[i] # fuel consumption = Electricity generation / efficiency of the plants \n",
    "\n",
    "        m += heat_demand[t] <= z_t[t][i] # heat demand >= Heat generation  \n",
    "\n",
    "        m += y_t[t][i] == heat_ratio * z_t[t][i] # electricity generation >= heat ratio * heat generation\n",
    "\n",
    "        m += y_t[t][i] == el_sold[t] + el_demand[t]\n",
    "\n",
    "\n",
    "\n",
    "status = m.optimize()\n",
    "obj= m.objective_value"
   ],
   "outputs": [
    {
     "output_type": "execute_result",
     "data": {
      "text/plain": [
       "41.709999999999994"
      ]
     },
     "metadata": {},
     "execution_count": 2
    }
   ],
   "metadata": {}
  },
  {
   "cell_type": "code",
   "execution_count": 3,
   "source": [
    "status"
   ],
   "outputs": [
    {
     "output_type": "execute_result",
     "data": {
      "text/plain": [
       "<OptimizationStatus.OPTIMAL: 0>"
      ]
     },
     "metadata": {},
     "execution_count": 3
    }
   ],
   "metadata": {}
  },
  {
   "cell_type": "code",
   "execution_count": null,
   "source": [],
   "outputs": [],
   "metadata": {}
  }
 ],
 "metadata": {
  "kernelspec": {
   "name": "python3",
   "display_name": "Python 3.9.6 64-bit"
  },
  "language_info": {
   "codemirror_mode": {
    "name": "ipython",
    "version": 3
   },
   "file_extension": ".py",
   "mimetype": "text/x-python",
   "name": "python",
   "nbconvert_exporter": "python",
   "pygments_lexer": "ipython3",
   "version": "3.9.6"
  },
  "interpreter": {
   "hash": "aee8b7b246df8f9039afb4144a1f6fd8d2ca17a180786b69acc140d282b71a49"
  }
 },
 "nbformat": 4,
 "nbformat_minor": 2
}