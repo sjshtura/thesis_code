{
 "metadata": {
  "language_info": {
   "codemirror_mode": {
    "name": "ipython",
    "version": 3
   },
   "file_extension": ".py",
   "mimetype": "text/x-python",
   "name": "python",
   "nbconvert_exporter": "python",
   "pygments_lexer": "ipython3",
   "version": "3.9.6"
  },
  "orig_nbformat": 2,
  "kernelspec": {
   "name": "python3",
   "display_name": "Python 3.9.6 64-bit"
  },
  "interpreter": {
   "hash": "aee8b7b246df8f9039afb4144a1f6fd8d2ca17a180786b69acc140d282b71a49"
  }
 },
 "nbformat": 4,
 "nbformat_minor": 2,
 "cells": [
  {
   "cell_type": "code",
   "execution_count": 6,
   "source": [
    "import numpy as np \n",
    "el_demand = [3,4,5,6,7,8] # Electicity demand\n",
    "el_price = [1,2,3,1,2,3] # Electricity price\n",
    "revenue = 0\n",
    "# gas-turbine CHP plant = (O&M) costs are approximately $40/kWe. /  32.88 EUR\n",
    "# gas-engine CHP plan = (O&M) costs are approximately $250/kWe /  205.47 EUR\n",
    "o_and_m_cost = [32,88, 205.47]\n",
    "\n",
    "gas_p = [0.23, 0.52, 0.34] # Gas/Fuel price for different gases\n",
    "\n",
    "discount_rate = 0.10 # discount rate \n",
    "\n",
    "t = 5 # Time in years\n",
    "\n",
    "for i in range(len(el_demand)):\n",
    "    revenue = revenue + (el_price[i] * el_demand[i])\n",
    "print(revenue)\n",
    "\n",
    "for i in range(len(gas_p)):\n",
    "    for j in range(len(gas_p)):\n",
    "        NPV = (revenue - o_and_m_cost[j] - gas_p[i])/((1 + discount_rate)**t) # will get positive value\n",
    "        # investment value - NPV -> if\n",
    "\n",
    "        NPV = (obj_CHP_boiler - obj_boiler) - O&M_cost).... -> NPV CHP\n",
    "\n",
    "        print(f\"For operation cost {o_and_m_cost[j]} and gas price {gas_p[i]}: {NPV}\")\n",
    "\n"
   ],
   "outputs": [
    {
     "output_type": "stream",
     "name": "stdout",
     "text": [
      "70\n",
      "For operation cost 32 and gas price 0.23: 23.452198371944284\n",
      "For operation cost 88 and gas price 0.23: -11.319395719368396\n",
      "For operation cost 41.09 and gas price 0.23: 17.80802354533656\n",
      "For operation cost 32 and gas price 0.52: 23.272131188257127\n",
      "For operation cost 88 and gas price 0.52: -11.49946290305555\n",
      "For operation cost 41.09 and gas price 0.52: 17.627956361649407\n",
      "For operation cost 32 and gas price 0.34: 23.383897026407773\n",
      "For operation cost 88 and gas price 0.34: -11.387697064904902\n",
      "For operation cost 41.09 and gas price 0.34: 17.739722199800056\n"
     ]
    }
   ],
   "metadata": {}
  },
  {
   "cell_type": "code",
   "execution_count": null,
   "source": [],
   "outputs": [],
   "metadata": {}
  }
 ]
}